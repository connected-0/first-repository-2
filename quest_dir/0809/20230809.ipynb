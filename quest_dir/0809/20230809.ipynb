{
 "cells": [
  {
   "cell_type": "code",
   "execution_count": 2,
   "id": "8ef009c1",
   "metadata": {
    "scrolled": false
   },
   "outputs": [
    {
     "name": "stdout",
     "output_type": "stream",
     "text": [
      "주사위 면의 개수를 입력하세요: 6\n",
      "주사위의 개수를 입력하세요: 6\n",
      "나온 주사위의 숫자는 [4, 6, 1, 4, 6, 5],\n",
      "6개의 주사위의 합은 26입니다.\n"
     ]
    }
   ],
   "source": [
    "from random import randrange\n",
    "\n",
    "class FunnyDice:\n",
    "    def __init__(self, n, m):\n",
    "        self.n = int(n)\n",
    "        self.m = int(m)\n",
    "        self.numbers = list(range(1, n+1))\n",
    "\n",
    "    def throw(self):     \n",
    "        for i in range(self.m):\n",
    "            globals()[\"self.index{}\".format(i)] = randrange(0, self.n)\n",
    "            globals()[\"self.val{}\".format(i)] = self.numbers[globals()[\"self.index{}\".format(i)]]\n",
    "            \n",
    "    def getval(self):\n",
    "        self.diceNum = []\n",
    "        for i in range(self.m):\n",
    "            self.diceNum.append(globals()[\"self.val{}\".format(i)])\n",
    "        return self.diceNum\n",
    "\n",
    "def get_inputs():\n",
    "    while True:\n",
    "        try:\n",
    "            n = int(input(\"주사위 면의 개수를 입력하세요: \"))\n",
    "            m = int(input(\"주사위의 개수를 입력하세요: \"))\n",
    "            return n, m\n",
    "        except:\n",
    "            print(\"하나이상의 숫자를 입력해 주세요\")\n",
    "    \n",
    "def main():\n",
    "    n, m = get_inputs()\n",
    "    mydice = FunnyDice(n, m)\n",
    "    mydice.throw()\n",
    "    sumList = sum(mydice.getval())\n",
    "    print(\"나온 주사위의 숫자는 {0},\".format(mydice.getval()))\n",
    "    print(\"{}개의 주사위의 합은 {}입니다.\".format(m, sumList))\n",
    "\n",
    "\n",
    "if __name__ == '__main__':\n",
    "    main()"
   ]
  },
  {
   "cell_type": "code",
   "execution_count": 3,
   "id": "c060ff4f",
   "metadata": {},
   "outputs": [
    {
     "name": "stdout",
     "output_type": "stream",
     "text": [
      "[0, 0, 0, 0, 0, 0]\n"
     ]
    }
   ],
   "source": []
  }
 ],
 "metadata": {
  "kernelspec": {
   "display_name": "Python 3 (ipykernel)",
   "language": "python",
   "name": "python3"
  },
  "language_info": {
   "codemirror_mode": {
    "name": "ipython",
    "version": 3
   },
   "file_extension": ".py",
   "mimetype": "text/x-python",
   "name": "python",
   "nbconvert_exporter": "python",
   "pygments_lexer": "ipython3",
   "version": "3.9.7"
  }
 },
 "nbformat": 4,
 "nbformat_minor": 5
}
