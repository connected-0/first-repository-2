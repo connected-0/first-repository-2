{
 "cells": [
  {
   "cell_type": "code",
   "execution_count": 1,
   "id": "82df9b8d",
   "metadata": {},
   "outputs": [
    {
     "data": {
      "text/plain": [
       "'010-13579-#####'"
      ]
     },
     "execution_count": 1,
     "metadata": {},
     "output_type": "execute_result"
    }
   ],
   "source": [
    "def change_num(nums):\n",
    "    answer = nums.replace(nums[-5:], '#####')\n",
    "    return answer\n",
    "\n",
    "change_num('010-13579-24688')\n"
   ]
  },
  {
   "cell_type": "code",
   "execution_count": 2,
   "id": "b43ff556",
   "metadata": {},
   "outputs": [
    {
     "data": {
      "text/plain": [
       "[1, 2, 3, 4, 5, 6, 7, 8, 9]"
      ]
     },
     "execution_count": 2,
     "metadata": {},
     "output_type": "execute_result"
    }
   ],
   "source": [
    "def flatten(data):\n",
    "    output = [] \n",
    "    for element in data:\n",
    "        if type(element) == list:\n",
    "            output += flatten(element)\n",
    "        else:\n",
    "            output.append(element)\n",
    "    return output\n",
    "\n",
    "a = [[1, 2], 3, [[4, 5, 6], 7], 8, 9]\n",
    "flatten(a)"
   ]
  },
  {
   "cell_type": "code",
   "execution_count": 1,
   "id": "ddcadd34",
   "metadata": {},
   "outputs": [
    {
     "data": {
      "text/plain": [
       "120"
      ]
     },
     "execution_count": 1,
     "metadata": {},
     "output_type": "execute_result"
    }
   ],
   "source": [
    "def mul(*values):\n",
    "    output = 1\n",
    "    for value in values:\n",
    "        if value <= 10:\n",
    "            output *= value\n",
    "        else:\n",
    "            pass\n",
    "    return output\n",
    "\n",
    "mul(2, 3, 4, 5)"
   ]
  }
 ],
 "metadata": {
  "kernelspec": {
   "display_name": "Python 3 (ipykernel)",
   "language": "python",
   "name": "python3"
  },
  "language_info": {
   "codemirror_mode": {
    "name": "ipython",
    "version": 3
   },
   "file_extension": ".py",
   "mimetype": "text/x-python",
   "name": "python",
   "nbconvert_exporter": "python",
   "pygments_lexer": "ipython3",
   "version": "3.9.7"
  }
 },
 "nbformat": 4,
 "nbformat_minor": 5
}
