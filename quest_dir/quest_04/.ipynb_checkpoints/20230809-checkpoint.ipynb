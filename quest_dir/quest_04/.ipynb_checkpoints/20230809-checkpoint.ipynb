{
 "cells": [
  {
   "cell_type": "code",
   "execution_count": 1,
   "id": "4c5a6495",
   "metadata": {
    "scrolled": false
   },
   "outputs": [
    {
     "name": "stdout",
     "output_type": "stream",
     "text": [
      "주사위 면의 개수를 입력하세요: 6\n",
      "주사위의 개수를 입력하세요: 6\n",
      "나온 주사위의 숫자는 [4, 1, 4, 2, 5, 6],\n",
      "6개의 주사위의 합은 22입니다.\n"
     ]
    }
   ],
   "source": [
    "from random import randrange\n",
    "\n",
    "class FunnyDice:\n",
    "    def __init__(self, n, m):\n",
    "        self.n = int(n)\n",
    "        self.m = int(m)\n",
    "        self.numbers = list(range(1, n+1)) \n",
    "\n",
    "    def throw(self):     \n",
    "        for i in range(self.m):  \n",
    "            globals()[\"self.index{}\".format(i)] = randrange(0, self.n) # 주사위의 갯수만큼 랜덤 수를 생성하고 \n",
    "            globals()[\"self.val{}\".format(i)] = self.numbers[globals()[\"self.index{}\".format(i)]] # 그 숫자들을 저장한다.\n",
    "            \n",
    "    def getval(self):\n",
    "        self.diceNum = []\n",
    "        for i in range(self.m): \n",
    "            self.diceNum.append(globals()[\"self.val{}\".format(i)]) # 저장된 숫자들을 self.diceNum 리스트에 입력한다.\n",
    "        return self.diceNum \n",
    "\n",
    "def get_inputs():\n",
    "    while True:\n",
    "        try:\n",
    "            n = int(input(\"주사위 면의 개수를 입력하세요: \")) \n",
    "            m = int(input(\"주사위의 개수를 입력하세요: \")) \n",
    "            return n, m\n",
    "        except:\n",
    "            print(\"하나이상의 숫자를 입력해 주세요\")\n",
    "    \n",
    "def main():\n",
    "    n, m = get_inputs()\n",
    "    mydice = FunnyDice(n, m)\n",
    "    mydice.throw()\n",
    "    sumList = sum(mydice.getval()) # 나온 숫자들의 합을 구해 sumList 변수에 저장한다.\n",
    "    print(\"나온 주사위의 숫자는 {0},\".format(mydice.getval())) # 나온 주사위 숫자를 모두 출력한다.\n",
    "    print(\"{}개의 주사위의 합은 {}입니다.\".format(m, sumList)) # 구해 놓은 숫자들의 합을 출력한다.\n",
    "\n",
    "\n",
    "if __name__ == '__main__':\n",
    "    main()"
   ]
  },
  {
   "cell_type": "markdown",
   "id": "e4bb36ae",
   "metadata": {},
   "source": [
    "# 회고 #\n",
    "\n",
    "## 이번 프로젝트에서 어려웠던 점 ##\n",
    "\n",
    "* throw() 함수를 작성할때 주사위의 개수만큼 \"self.index\" 변수를 다른 이름으로 생성하고 싶어 뒤에 변수i를 추가 하고싶었는데 그 부분이 잘 되지 않아 인터넷을 검색하는 등 어려움이 있었다.\n",
    "\n",
    "## 이번 프로젝트에서 학습한 내용 ##\n",
    "\n",
    "* 클라스와 함수를 정의해 사용하는 법에 대해 좀 더 익숙하게 사용할 수 있게 되었으며, 변수로 변수명을 생성하는 방법에 대해알게 되었다.\n",
    "\n",
    "## 느낀점 ##\n",
    "\n",
    "* 파이썬에서는 코드를 많이 간결하게 만들 수 있는 방법이 많다는 것을 알게되어 더 많은 연습을 통해 코딩을 더 간결하게 만들 수 있도록 노력 해야겠다.\n"
   ]
  },
  {
   "cell_type": "code",
   "execution_count": null,
   "id": "9a670b51",
   "metadata": {},
   "outputs": [],
   "source": []
  },
  {
   "cell_type": "code",
   "execution_count": null,
   "id": "2d3ee550",
   "metadata": {},
   "outputs": [],
   "source": []
  }
 ],
 "metadata": {
  "kernelspec": {
   "display_name": "Python 3 (ipykernel)",
   "language": "python",
   "name": "python3"
  },
  "language_info": {
   "codemirror_mode": {
    "name": "ipython",
    "version": 3
   },
   "file_extension": ".py",
   "mimetype": "text/x-python",
   "name": "python",
   "nbconvert_exporter": "python",
   "pygments_lexer": "ipython3",
   "version": "3.9.7"
  }
 },
 "nbformat": 4,
 "nbformat_minor": 5
}
